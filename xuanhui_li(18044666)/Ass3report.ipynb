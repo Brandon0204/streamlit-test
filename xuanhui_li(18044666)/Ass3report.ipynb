{
 "cells": [
  {
   "cell_type": "code",
   "execution_count": 97,
   "id": "262f8bb1-b32f-4839-b556-d15312c9e233",
   "metadata": {},
   "outputs": [],
   "source": [
    "import pandas as pd\n",
    "import numpy as np\n",
    "import matplotlib.pyplot as plt\n",
    "import seaborn as sns\n",
    "import datetime as dt\n",
    "import time"
   ]
  },
  {
   "cell_type": "code",
   "execution_count": 99,
   "id": "1037330c-04e5-47b9-86f8-d53b6ac72e09",
   "metadata": {},
   "outputs": [],
   "source": [
    "# 加载你的数据文件 (文件名请替换成你自己的)\n",
    "df_hpi = pd.read_csv(r'C:\\Users\\Playtech\\Desktop\\Ass3\\Ass3 new\\hm10modify.csv')\n",
    "df_ocr = pd.read_csv(r'C:\\Users\\Playtech\\Desktop\\Ass3\\Ass3 new\\OCRmodify.csv')\n",
    "df_cpi = pd.read_csv(r'C:\\Users\\Playtech\\Desktop\\Ass3\\Ass3 new\\consumers-price-index-june-2025-quarter-seasonally-adjusted.csv')\n",
    "df_gdp = pd.read_csv(r'C:\\Users\\Playtech\\Desktop\\Ass3\\Ass3 new\\gross-domestic-product-june-2025-quarter.csv')"
   ]
  },
  {
   "cell_type": "code",
   "execution_count": 101,
   "id": "1d46b901-41bc-4818-95bb-906bb72c40bd",
   "metadata": {},
   "outputs": [],
   "source": [
    "# 设置图表风格\n",
    "sns.set_style('whitegrid')\n",
    "plt.rcParams['figure.figsize'] = (12, 6)"
   ]
  },
  {
   "cell_type": "code",
   "execution_count": 103,
   "id": "e280b029-4b9b-4e76-b7d3-419d46388809",
   "metadata": {},
   "outputs": [
    {
     "name": "stdout",
     "output_type": "stream",
     "text": [
      "HPI Data Head:\n",
      "  Unnamed: 0      House sales House price index (HPI)  \\\n",
      "0        NaN         (Number)                 (Index)   \n",
      "1      Notes              NaN                     NaN   \n",
      "2       Unit               no                   Index   \n",
      "3  Series Id  QVB.Q.MR0H01.na          HPI.Q.H01T0.ia   \n",
      "4    3月 1990           22,855                     477   \n",
      "\n",
      "  Total value of housing stock Residential investment (GDP)  \n",
      "0                         ($m)                    (Real $m)  \n",
      "1                          Yes                          NaN  \n",
      "2                         NZDm                      NZDm(r)  \n",
      "3                     HHAL.QC1                GDE.Q.EI24.RA  \n",
      "4                      123,000                        1,790  \n",
      "\n",
      "HPI Data Info:\n",
      "<class 'pandas.core.frame.DataFrame'>\n",
      "RangeIndex: 146 entries, 0 to 145\n",
      "Data columns (total 5 columns):\n",
      " #   Column                        Non-Null Count  Dtype \n",
      "---  ------                        --------------  ----- \n",
      " 0   Unnamed: 0                    145 non-null    object\n",
      " 1   House sales                   144 non-null    object\n",
      " 2   House price index (HPI)       144 non-null    object\n",
      " 3   Total value of housing stock  145 non-null    object\n",
      " 4   Residential investment (GDP)  145 non-null    object\n",
      "dtypes: object(5)\n",
      "memory usage: 5.8+ KB\n"
     ]
    }
   ],
   "source": [
    "# --- HPI ---\n",
    "# 查看前几行\n",
    "print(\"HPI Data Head:\")\n",
    "print(df_hpi.head())\n",
    "\n",
    "# 查看数据信息，检查数据类型和缺失值\n",
    "print(\"\\nHPI Data Info:\")\n",
    "df_hpi.info()"
   ]
  },
  {
   "cell_type": "code",
   "execution_count": 105,
   "id": "fc4f4b43-80f3-40f4-82c1-4fde16aea5ef",
   "metadata": {},
   "outputs": [],
   "source": [
    "# 1. 真实的数据是从第5行（索引为4）开始的，我们先把它选出来\n",
    "df_hpi_clean = df_hpi.iloc[4:].copy()\n",
    "# 2. 重置索引，让新数据从0开始\n",
    "df_hpi_clean.reset_index(drop=True, inplace=True)\n",
    "# 3. 选择我们需要的列，并给它们起一个简洁的新名字\n",
    "#   注意: 'Unnamed: 0' 是日期那一列的默认名字\n",
    "df_hpi_clean = df_hpi_clean[['Unnamed: 0', 'House price index (HPI)']]\n",
    "df_hpi_clean.columns = ['Date', 'HPI']\n",
    "df_hpi_clean['Date'] = df_hpi_clean['Date'].str.replace('月 ', '/', regex=False)\n",
    "df_hpi_clean['Date'] = pd.to_datetime(df_hpi_clean['Date'], format='%m/%Y')\n",
    "#   将HPI列转换为数字（浮点数）\n",
    "df_hpi_clean['HPI'] = df_hpi_clean['HPI'].astype(float)"
   ]
  },
  {
   "cell_type": "code",
   "execution_count": 107,
   "id": "40e4cd73-997a-4365-96a9-8bf4c4638af4",
   "metadata": {},
   "outputs": [
    {
     "name": "stdout",
     "output_type": "stream",
     "text": [
      "        Date    HPI\n",
      "0 1990-03-01  477.0\n",
      "1 1990-06-01  480.0\n",
      "2 1990-09-01  483.0\n",
      "3 1990-12-01  482.0\n",
      "4 1991-03-01  479.0\n",
      "<class 'pandas.core.frame.DataFrame'>\n",
      "RangeIndex: 142 entries, 0 to 141\n",
      "Data columns (total 2 columns):\n",
      " #   Column  Non-Null Count  Dtype         \n",
      "---  ------  --------------  -----         \n",
      " 0   Date    142 non-null    datetime64[ns]\n",
      " 1   HPI     141 non-null    float64       \n",
      "dtypes: datetime64[ns](1), float64(1)\n",
      "memory usage: 2.3 KB\n"
     ]
    }
   ],
   "source": [
    "print(df_hpi_clean.head())\n",
    "df_hpi_clean.info()"
   ]
  },
  {
   "cell_type": "code",
   "execution_count": 109,
   "id": "739513a6-9938-4fa0-ad0e-a280f29c9250",
   "metadata": {},
   "outputs": [
    {
     "name": "stdout",
     "output_type": "stream",
     "text": [
      "         Date   Ocr\n",
      "0   2000/3/31  5.31\n",
      "1   2000/6/30  6.21\n",
      "2   2000/9/30  6.50\n",
      "3  2000/12/31  6.50\n",
      "4   2001/3/31  6.45\n"
     ]
    }
   ],
   "source": [
    "#--- 检查ocr ---\n",
    "print(df_ocr.head())"
   ]
  },
  {
   "cell_type": "code",
   "execution_count": 111,
   "id": "bbb15ea8-ed9d-43e3-b7fc-478f041bf6d7",
   "metadata": {},
   "outputs": [],
   "source": [
    "# 1. 将 'Date' 列安全地转换为标准的datetime对象\n",
    "#    Pandas通常能自动识别 '2000/3/31' 这种格式\n",
    "df_ocr['Date'] = pd.to_datetime(df_ocr['Date'])\n",
    "# 2. 将所有日期都标准化为当月的第一天\n",
    "#    .dt.to_period('M') 会将日期截断到月份 (例如 '2000-03')\n",
    "#    .dt.to_timestamp() 会再将这个月份转换回日期，并默认设置为该月的第一天\n",
    "df_ocr['Date'] = df_ocr['Date'].dt.to_period('M').dt.to_timestamp()\n"
   ]
  },
  {
   "cell_type": "code",
   "execution_count": 113,
   "id": "fb785533-9591-4e1a-b9fd-5ca8173b78d1",
   "metadata": {},
   "outputs": [
    {
     "name": "stdout",
     "output_type": "stream",
     "text": [
      "        Date   Ocr\n",
      "0 2000-03-01  5.31\n",
      "1 2000-06-01  6.21\n",
      "2 2000-09-01  6.50\n",
      "3 2000-12-01  6.50\n",
      "4 2001-03-01  6.45\n",
      "<class 'pandas.core.frame.DataFrame'>\n",
      "RangeIndex: 115 entries, 0 to 114\n",
      "Data columns (total 2 columns):\n",
      " #   Column  Non-Null Count  Dtype         \n",
      "---  ------  --------------  -----         \n",
      " 0   Date    115 non-null    datetime64[ns]\n",
      " 1   Ocr     115 non-null    float64       \n",
      "dtypes: datetime64[ns](1), float64(1)\n",
      "memory usage: 1.9 KB\n"
     ]
    }
   ],
   "source": [
    "#--- 再次检查 ocr ----\n",
    "print(df_ocr.head())\n",
    "df_ocr.info()"
   ]
  },
  {
   "cell_type": "code",
   "execution_count": 115,
   "id": "ef60de59-a204-4eaf-96ca-3804ed6e902f",
   "metadata": {},
   "outputs": [
    {
     "name": "stdout",
     "output_type": "stream",
     "text": [
      "  Series_reference   Period  Data_value   STATUS  UNITS Subject  \\\n",
      "0      CPIQ.SE9S01  2006.06       762.0  REVISED  Index     CPI   \n",
      "1      CPIQ.SE9S01  2006.09       771.0  REVISED  Index     CPI   \n",
      "2      CPIQ.SE9S01  2006.12       780.0  REVISED  Index     CPI   \n",
      "3      CPIQ.SE9S01  2007.03       788.0  REVISED  Index     CPI   \n",
      "4      CPIQ.SE9S01  2007.06       794.0  REVISED  Index     CPI   \n",
      "\n",
      "                                               Group       Series_title_1  \\\n",
      "0  CPI Level 1 Groups for New Zealand, Seasonally...  Seasonally adjusted   \n",
      "1  CPI Level 1 Groups for New Zealand, Seasonally...  Seasonally adjusted   \n",
      "2  CPI Level 1 Groups for New Zealand, Seasonally...  Seasonally adjusted   \n",
      "3  CPI Level 1 Groups for New Zealand, Seasonally...  Seasonally adjusted   \n",
      "4  CPI Level 1 Groups for New Zealand, Seasonally...  Seasonally adjusted   \n",
      "\n",
      "  Series_title_2  \n",
      "0           Food  \n",
      "1           Food  \n",
      "2           Food  \n",
      "3           Food  \n",
      "4           Food  \n"
     ]
    }
   ],
   "source": [
    "print(df_cpi.head())"
   ]
  },
  {
   "cell_type": "code",
   "execution_count": 127,
   "id": "7ce708a7-07e3-4506-b5ea-033cc7c53a3f",
   "metadata": {},
   "outputs": [
    {
     "name": "stdout",
     "output_type": "stream",
     "text": [
      "<class 'pandas.core.frame.DataFrame'>\n",
      "RangeIndex: 11785 entries, 0 to 11784\n",
      "Data columns (total 9 columns):\n",
      " #   Column            Non-Null Count  Dtype  \n",
      "---  ------            --------------  -----  \n",
      " 0   Series_reference  11785 non-null  object \n",
      " 1   Period            11785 non-null  object \n",
      " 2   Data_value        11781 non-null  float64\n",
      " 3   STATUS            11785 non-null  object \n",
      " 4   UNITS             11785 non-null  object \n",
      " 5   Subject           11785 non-null  object \n",
      " 6   Group             11785 non-null  object \n",
      " 7   Series_title_1    11785 non-null  object \n",
      " 8   Series_title_2    11785 non-null  object \n",
      "dtypes: float64(1), object(8)\n",
      "memory usage: 828.8+ KB\n"
     ]
    }
   ],
   "source": [
    "df_cpi.info()"
   ]
  },
  {
   "cell_type": "code",
   "execution_count": 117,
   "id": "fde8d65f-6057-4e65-970b-d16e0bf6b640",
   "metadata": {},
   "outputs": [
    {
     "name": "stdout",
     "output_type": "stream",
     "text": [
      "['CPIQ.SE9S01' 'CPIQ.SE9S011' 'CPIQ.SE9S01101' 'CPIQ.SE9S01102'\n",
      " 'CPIQ.SE9S012' 'CPIQ.SE9S01201' 'CPIQ.SE9S01202' 'CPIQ.SE9S013'\n",
      " 'CPIQ.SE9S01301' 'CPIQ.SE9S01302' 'CPIQ.SE9S01303' 'CPIQ.SE9S01304'\n",
      " 'CPIQ.SE9S01305' 'CPIQ.SE9S01306' 'CPIQ.SE9S014' 'CPIQ.SE9S01401'\n",
      " 'CPIQ.SE9S01402' 'CPIQ.SE9S015' 'CPIQ.SE9S01501' 'CPIQ.SE9S01502'\n",
      " 'CPIQ.SE9S02' 'CPIQ.SE9S021' 'CPIQ.SE9S02101' 'CPIQ.SE9S02102'\n",
      " 'CPIQ.SE9S02103' 'CPIQ.SE9S022' 'CPIQ.SE9S02200' 'CPIQ.SE9S03'\n",
      " 'CPIQ.SE9S031' 'CPIQ.SE9S03102' 'CPIQ.SE9S03103' 'CPIQ.SE9S03104'\n",
      " 'CPIQ.SE9S03105' 'CPIQ.SE9S03106' 'CPIQ.SE9S03107' 'CPIQ.SE9S032'\n",
      " 'CPIQ.SE9S03202' 'CPIQ.SE9S03203' 'CPIQ.SE9S03204' 'CPIQ.SE9S04'\n",
      " 'CPIQ.SE9S041' 'CPIQ.SE9S04101' 'CPIQ.SE9S042' 'CPIQ.SE9S04201'\n",
      " 'CPIQ.SE9S043' 'CPIQ.SE9S04301' 'CPIQ.SE9S04302' 'CPIQ.SE9S044'\n",
      " 'CPIQ.SE9S04401' 'CPIQ.SE9S04402' 'CPIQ.SE9S04403' 'CPIQ.SE9S04404'\n",
      " 'CPIQ.SE9S045' 'CPIQ.SE9S04501' 'CPIQ.SE9S04502' 'CPIQ.SE9S04503'\n",
      " 'CPIQ.SE9S05' 'CPIQ.SE9S051' 'CPIQ.SE9S05101' 'CPIQ.SE9S05102'\n",
      " 'CPIQ.SE9S052' 'CPIQ.SE9S05200' 'CPIQ.SE9S053' 'CPIQ.SE9S05301'\n",
      " 'CPIQ.SE9S05302' 'CPIQ.SE9S05303' 'CPIQ.SE9S054' 'CPIQ.SE9S05400'\n",
      " 'CPIQ.SE9S055' 'CPIQ.SE9S05501' 'CPIQ.SE9S05502' 'CPIQ.SE9S056'\n",
      " 'CPIQ.SE9S05601' 'CPIQ.SE9S05602' 'CPIQ.SE9S06' 'CPIQ.SE9S061'\n",
      " 'CPIQ.SE9S06101' 'CPIQ.SE9S06102' 'CPIQ.SE9S06103' 'CPIQ.SE9S062'\n",
      " 'CPIQ.SE9S06201' 'CPIQ.SE9S06202' 'CPIQ.SE9S06203' 'CPIQ.SE9S063'\n",
      " 'CPIQ.SE9S06300' 'CPIQ.SE9S07' 'CPIQ.SE9S071' 'CPIQ.SE9S07101'\n",
      " 'CPIQ.SE9S07102' 'CPIQ.SE9S07103' 'CPIQ.SE9S07104' 'CPIQ.SE9S072'\n",
      " 'CPIQ.SE9S07201' 'CPIQ.SE9S07202' 'CPIQ.SE9S07203' 'CPIQ.SE9S07204'\n",
      " 'CPIQ.SE9S07205' 'CPIQ.SE9S073' 'CPIQ.SE9S07301' 'CPIQ.SE9S07302'\n",
      " 'CPIQ.SE9S07303' 'CPIQ.SE9S07304' 'CPIQ.SE9S07305' 'CPIQ.SE9S08'\n",
      " 'CPIQ.SE9S081' 'CPIQ.SE9S08100' 'CPIQ.SE9S082' 'CPIQ.SE9S08200'\n",
      " 'CPIQ.SE9S083' 'CPIQ.SE9S08300' 'CPIQ.SE9S09' 'CPIQ.SE9S091'\n",
      " 'CPIQ.SE9S09101' 'CPIQ.SE9S09102' 'CPIQ.SE9S09103' 'CPIQ.SE9S092'\n",
      " 'CPIQ.SE9S09200' 'CPIQ.SE9S093' 'CPIQ.SE9S09301' 'CPIQ.SE9S09302'\n",
      " 'CPIQ.SE9S09303' 'CPIQ.SE9S09304' 'CPIQ.SE9S094' 'CPIQ.SE9S09401'\n",
      " 'CPIQ.SE9S09402' 'CPIQ.SE9S09403' 'CPIQ.SE9S095' 'CPIQ.SE9S09501'\n",
      " 'CPIQ.SE9S09502' 'CPIQ.SE9S09504' 'CPIQ.SE9S096' 'CPIQ.SE9S10'\n",
      " 'CPIQ.SE9S101' 'CPIQ.SE9S10100' 'CPIQ.SE9S102' 'CPIQ.SE9S10200'\n",
      " 'CPIQ.SE9S103' 'CPIQ.SE9S10300' 'CPIQ.SE9S104' 'CPIQ.SE9S10400'\n",
      " 'CPIQ.SE9S11' 'CPIQ.SE9S111' 'CPIQ.SE9S11101' 'CPIQ.SE9S11102'\n",
      " 'CPIQ.SE9S11103' 'CPIQ.SE9S113' 'CPIQ.SE9S11301' 'CPIQ.SE9S11302'\n",
      " 'CPIQ.SE9S114' 'CPIQ.SE9S11401' 'CPIQ.SE9S11402' 'CPIQ.SE9S11403'\n",
      " 'CPIQ.SE9S11404' 'CPIQ.SE9S11405' 'CPIQ.SE9S115' 'CPIQ.SE9S11501'\n",
      " 'CPIQ.SE9S116' 'CPIQ.SE9S11601' 'CPIQ.SE9S11602' 'CPIQ.SE9S11603'\n",
      " 'CPIQ.SE9S11604' 'CPIQ.SE9SA' 'CPIQ.SE9SNS6000' 'CPIQ.SE9SNS6500']\n"
     ]
    }
   ],
   "source": [
    "# 这会打印出该列所有不重复的值\n",
    "#CPIQ.SE9SA\n",
    "print(df_cpi['Series_reference'].unique())"
   ]
  },
  {
   "cell_type": "code",
   "execution_count": null,
   "id": "43d2404c-bb74-4546-87be-1046f952baea",
   "metadata": {},
   "outputs": [],
   "source": []
  }
 ],
 "metadata": {
  "kernelspec": {
   "display_name": "Python 3 (ipykernel)",
   "language": "python",
   "name": "python3"
  },
  "language_info": {
   "codemirror_mode": {
    "name": "ipython",
    "version": 3
   },
   "file_extension": ".py",
   "mimetype": "text/x-python",
   "name": "python",
   "nbconvert_exporter": "python",
   "pygments_lexer": "ipython3",
   "version": "3.12.4"
  }
 },
 "nbformat": 4,
 "nbformat_minor": 5
}
